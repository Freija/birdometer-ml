{
 "cells": [
  {
   "cell_type": "code",
   "execution_count": 16,
   "metadata": {
    "collapsed": true
   },
   "outputs": [],
   "source": [
    "from sklearn.neighbors import KNeighborsClassifier\n",
    "from sklearn.model_selection import train_test_split\n",
    "from sklearn.feature_extraction import image\n",
    "from sklearn.metrics import f1_score, classification_report, precision_recall_fscore_support\n",
    "import numpy as np\n",
    "import pandas as pd\n",
    "import cv2\n",
    "import os\n",
    "import csv\n",
    "import pickle"
   ]
  },
  {
   "cell_type": "code",
   "execution_count": 2,
   "metadata": {
    "collapsed": true
   },
   "outputs": [],
   "source": [
    "def image_to_vector(image, size=(int(720/20),int(480/20))):\n",
    "    image_array = cv2.imread(image)\n",
    "    return cv2.resize(image_array, size).flatten()  # This is a numpy array"
   ]
  },
  {
   "cell_type": "code",
   "execution_count": 3,
   "metadata": {
    "collapsed": true
   },
   "outputs": [],
   "source": [
    "def get_image_list():\n",
    "    image_list = []\n",
    "    with open('/home/freija/Projects/birdometer/trainingdata/images.handscan.csv', 'r') as infile:\n",
    "        reader = csv.reader(infile)\n",
    "        for row in reader:\n",
    "            image_list.append(row)\n",
    "    return image_list"
   ]
  },
  {
   "cell_type": "code",
   "execution_count": 13,
   "metadata": {
    "collapsed": true
   },
   "outputs": [],
   "source": [
    "def get_label(image_detail):\n",
    "    # The label needs to be 1 if image_detail[1]=='y' and 0 if not.\n",
    "    if image_detail[1] == 'y':\n",
    "        return 1\n",
    "    elif image_detail[1] == 'n':\n",
    "        return 0\n",
    "    else:\n",
    "        return -1  # Something is wrong"
   ]
  },
  {
   "cell_type": "code",
   "execution_count": 6,
   "metadata": {},
   "outputs": [
    {
     "name": "stdout",
     "output_type": "stream",
     "text": [
      "3860\n"
     ]
    }
   ],
   "source": [
    "# Get the list of available training images\n",
    "image_list = get_image_list()\n",
    "print(len(image_list))"
   ]
  },
  {
   "cell_type": "code",
   "execution_count": 7,
   "metadata": {
    "collapsed": true
   },
   "outputs": [],
   "source": [
    "# Extract the feature vectors for each image and store\n",
    "features = []\n",
    "labels = []\n",
    "for image in image_list:\n",
    "    image_path = '/home/freija/Projects/birdometer/trainingdata/' + image[0]\n",
    "    label = get_label(image)\n",
    "    # Ignore any label that is not 1 or 0\n",
    "    # If the label is unknown, get_label returns -1 and the image\n",
    "    # should be ignored\n",
    "    if label != -1:\n",
    "        features.append(image_to_vector(image_path))\n",
    "        labels.append(get_label(image))"
   ]
  },
  {
   "cell_type": "code",
   "execution_count": 8,
   "metadata": {},
   "outputs": [
    {
     "name": "stdout",
     "output_type": "stream",
     "text": [
      "3858 [160 134  93 ..., 134 114  81]\n"
     ]
    }
   ],
   "source": [
    "print(len(features), features[0])"
   ]
  },
  {
   "cell_type": "code",
   "execution_count": 10,
   "metadata": {},
   "outputs": [
    {
     "name": "stdout",
     "output_type": "stream",
     "text": [
      "2314 772 772\n"
     ]
    }
   ],
   "source": [
    "# Time to split up our data in a training, validation and test-set. We wanto to do 80%, 10%, 10%.\n",
    "# We can call train_test_split twice. \n",
    "x, X_test, y, y_test = train_test_split(features,labels,test_size=0.2,train_size=0.8, random_state = 0)\n",
    "X_train, X_cv, y_train, y_cv = train_test_split(x,y,test_size = 0.25,train_size =0.75, random_state = 0)\n",
    "print(len(X_train), len(X_cv), len(X_test))"
   ]
  },
  {
   "cell_type": "markdown",
   "metadata": {},
   "source": [
    "# kNN with scikit-learn\n",
    "The first algorithm to try is a simple Nearest-Neighbours one. The one parameter here is the\n",
    "number of nearest neighbours to consider (k). We try k in [1,48[ range and test the F1 score on the validation set."
   ]
  },
  {
   "cell_type": "code",
   "execution_count": 18,
   "metadata": {},
   "outputs": [
    {
     "name": "stdout",
     "output_type": "stream",
     "text": [
      "1 [ 0.9854851   0.91914894] [ 1.  1.]\n",
      "2 [ 0.98176292  0.89473684] [ 0.98717949  0.93131868]\n",
      "3 [ 0.98393267  0.91139241] [ 0.99175258  0.95721925]\n",
      "4 [ 0.97653293  0.86098655] [ 0.9833887   0.90909091]\n",
      "5 [ 0.97478992  0.85957447] [ 0.98613251  0.92643052]\n",
      "6 [ 0.97334349  0.84848485] [ 0.98311157  0.90833333]\n",
      "7 [ 0.97478992  0.85957447] [ 0.98305955  0.90983607]\n",
      "8 [ 0.97486672  0.85714286] [ 0.9798212   0.88920056]\n",
      "9 [ 0.97251908  0.84615385] [ 0.98104508  0.89779006]\n",
      "10 [ 0.96808511  0.81578947] [ 0.97729013  0.87447109]\n",
      "11 [ 0.97025172  0.83261803] [ 0.97927859  0.88734353]\n",
      "12 [ 0.96588324  0.8       ] [ 0.97430679  0.85509326]\n",
      "13 [ 0.96661608  0.80530973] [ 0.97553517  0.86363636]\n",
      "14 [ 0.96515152  0.79464286] [ 0.97183456  0.83842795]\n",
      "15 [ 0.96509863  0.79646018] [ 0.9727943   0.84604317]\n",
      "16 [ 0.96363636  0.78571429] [ 0.96985052  0.82525698]\n",
      "17 [ 0.96273764  0.7860262 ] [ 0.97051347  0.83285303]\n",
      "18 [ 0.96133434  0.77333333] [ 0.96658228  0.80530973]\n",
      "19 [ 0.96273764  0.7860262 ] [ 0.96775831  0.81567489]\n",
      "20 [ 0.95909091  0.75892857] [ 0.96635467  0.80296296]\n",
      "21 [ 0.96054628  0.7699115 ] [ 0.96607595  0.80235988]\n",
      "22 [ 0.95553881  0.7281106 ] [ 0.96395261  0.78366112]\n",
      "23 [ 0.95612708  0.73873874] [ 0.96253165  0.78171091]\n",
      "24 [ 0.95324284  0.71559633] [ 0.96044344  0.76176024]\n",
      "25 [ 0.95533687  0.73542601] [ 0.95736041  0.75581395]\n",
      "26 [ 0.95245283  0.71232877] [ 0.95474083  0.73402675]\n",
      "27 [ 0.95606061  0.74107143] [ 0.95614702  0.74670571]\n",
      "28 [ 0.95324284  0.71559633] [ 0.94996228  0.69431644]\n",
      "29 [ 0.95        0.70535714] [ 0.94930643  0.69683258]\n",
      "30 [ 0.94792453  0.68493151] [ 0.9471831   0.67791411]\n",
      "31 [ 0.95072024  0.71111111] [ 0.94856278  0.6918429 ]\n",
      "32 [ 0.94792453  0.68493151] [ 0.94596632  0.66872111]\n",
      "33 [ 0.94856278  0.69369369] [ 0.94686477  0.67884323]\n",
      "34 [ 0.94641509  0.67579909] [ 0.94496105  0.66255778]\n",
      "35 [ 0.94856278  0.69369369] [ 0.94758065  0.68484848]\n",
      "36 [ 0.94356659  0.65116279] [ 0.94591195  0.67075038]\n",
      "37 [ 0.94570136  0.66972477] [ 0.9473419   0.68285281]\n",
      "38 [ 0.94427711  0.65740741] [ 0.94424912  0.65634675]\n",
      "39 [ 0.94081942  0.65486726] [ 0.94212787  0.65871833]\n",
      "40 [ 0.94019682  0.64573991] [ 0.94022699  0.64253394]\n",
      "41 [ 0.9441469   0.69198312] [ 0.94036697  0.66761364]\n",
      "42 [ 0.94423224  0.6893617 ] [ 0.9404277   0.66571429]\n",
      "43 [ 0.94009217  0.67768595] [ 0.93831584  0.66574202]\n",
      "44 [ 0.93937068  0.67219917] [ 0.93783576  0.6620306 ]\n",
      "45 [ 0.94009217  0.67768595] [ 0.93855607  0.66759003]\n",
      "46 [ 0.9394636   0.66945607] [ 0.93868166  0.66386555]\n",
      "47 [ 0.93865031  0.66666667] [ 0.93831584  0.66574202]\n"
     ]
    }
   ],
   "source": [
    "scores_cv = []\n",
    "scores_train = []\n",
    "for i in range(1,48):\n",
    "    knn = KNeighborsClassifier(n_neighbors=i, algorithm = 'auto')\n",
    "    knn.fit(X_train, y_train)\n",
    "    # Get the predicted labels for the training set and the cross-validation set\n",
    "    y_cv_pred = knn.predict(X_cv)\n",
    "    y_train_pred = knn.predict(X_train)\n",
    "    # Check the metrics\n",
    "    precision_cv, recall_cv, f1_cv , _= precision_recall_fscore_support(y_cv, y_cv_pred)\n",
    "    precision_train, recall_train, f1_train , _= precision_recall_fscore_support(y_train, y_train_pred)\n",
    "    print(i, f1_cv, f1_train)\n",
    "    scores_cv.append((precision_cv, recall_cv, f1_cv))\n",
    "    scores_train.append((precision_train, recall_train, f1_train))"
   ]
  },
  {
   "cell_type": "code",
   "execution_count": 32,
   "metadata": {},
   "outputs": [
    {
     "data": {
      "image/png": "[encoded data removed]",
      "text/plain": [
       "<matplotlib.figure.Figure at 0x7ff317e96b00>"
      ]
     },
     "metadata": {},
     "output_type": "display_data"
    }
   ],
   "source": [
    "# We can plot the different metrics of the test and validation set as a function of k\n",
    "import matplotlib.pyplot as plt\n",
    "# Get the precisions for class 1 (there is a bird)\n",
    "precision_cv = [x[1] for (x,y,z) in scores_cv]\n",
    "recall_cv = [y[1] for (x,y,z) in scores_cv]\n",
    "f1_cv = [z[1] for (x,y,z) in scores_cv]\n",
    "\n",
    "precision_train = [x[1] for (x,y,z) in scores_train]\n",
    "recall_train = [y[1] for (x,y,z) in scores_train]\n",
    "f1_train = [z[1] for (x,y,z) in scores_train]\n",
    "\n",
    "plt.plot(precision_cv)\n",
    "plt.plot(recall_cv)\n",
    "plt.plot(f1_cv)\n",
    "\n",
    "plt.plot(precision_train)\n",
    "plt.plot(recall_train)\n",
    "plt.plot(f1_train)\n",
    "\n",
    "plt.ylabel('fraction')\n",
    "plt.legend(['precision CV', 'recall CV', 'F1 CV','precision train', 'recall train', 'F1 train'], loc='upper right')\n",
    "plt.show()"
   ]
  },
  {
   "cell_type": "code",
   "execution_count": 33,
   "metadata": {},
   "outputs": [
    {
     "name": "stdout",
     "output_type": "stream",
     "text": [
      "             precision    recall  f1-score   support\n",
      "\n",
      "          0       0.97      1.00      0.99       646\n",
      "          1       0.99      0.86      0.92       126\n",
      "\n",
      "avg / total       0.98      0.98      0.97       772\n",
      "\n"
     ]
    },
    {
     "data": {
      "text/plain": [
       "str"
      ]
     },
     "execution_count": 33,
     "metadata": {},
     "output_type": "execute_result"
    }
   ],
   "source": [
    "knn = KNeighborsClassifier(n_neighbors=1, algorithm = 'auto')\n",
    "knn.fit(X_train, y_train)\n",
    "y_cv_pred = knn.predict(X_cv)\n",
    "print(classification_report(y_cv, y_cv_pred))\n",
    "type(classification_report(y_cv, y_cv_pred))"
   ]
  },
  {
   "cell_type": "code",
   "execution_count": 40,
   "metadata": {},
   "outputs": [
    {
     "data": {
      "text/plain": [
       "0.9152542372881356"
      ]
     },
     "execution_count": 40,
     "metadata": {},
     "output_type": "execute_result"
    }
   ],
   "source": [
    "f1_score(y_cv, y_cv_pred)"
   ]
  },
  {
   "cell_type": "markdown",
   "metadata": {
    "collapsed": true
   },
   "source": [
    "# Neural Network with Tensorflow"
   ]
  },
  {
   "cell_type": "code",
   "execution_count": 10,
   "metadata": {},
   "outputs": [
    {
     "name": "stdout",
     "output_type": "stream",
     "text": [
      "(2592,)\n"
     ]
    }
   ],
   "source": [
    "import tensorflow as tf\n",
    "# The labels need to be 1-hot encoded.. wich they are currently not. \n",
    "print(X_train[0].shape)"
   ]
  },
  {
   "cell_type": "code",
   "execution_count": 11,
   "metadata": {
    "collapsed": true
   },
   "outputs": [],
   "source": [
    "x = tf.placeholder(tf.float32, [None, 2592])\n",
    "W = tf.Variable(tf.zeros([2592, 2]))\n",
    "b = tf.Variable(tf.zeros([2]))\n",
    "y = tf.nn.softmax(tf.matmul(x,W)+b)"
   ]
  }
 ],
 "metadata": {
  "kernelspec": {
   "display_name": "Python 3",
   "language": "python",
   "name": "python3"
  },
  "language_info": {
   "codemirror_mode": {
    "name": "ipython",
    "version": 3
   },
   "file_extension": ".py",
   "mimetype": "text/x-python",
   "name": "python",
   "nbconvert_exporter": "python",
   "pygments_lexer": "ipython3",
   "version": "3.6.1"
  }
 },
 "nbformat": 4,
 "nbformat_minor": 2
}
